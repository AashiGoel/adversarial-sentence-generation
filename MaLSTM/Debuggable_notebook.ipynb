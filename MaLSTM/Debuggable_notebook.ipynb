{
 "cells": [
  {
   "cell_type": "code",
   "execution_count": 8,
   "metadata": {},
   "outputs": [],
   "source": [
    "import argparse\n",
    "\n",
    "import time\n",
    "import random\n",
    "\n",
    "import torch\n",
    "import torch.nn as nn\n",
    "from torch import optim\n",
    "import numpy as np\n",
    "import torch.nn.functional as F\n",
    "from torch import Tensor\n",
    "from nltk import bleu_score\n",
    "from helper import Helper\n",
    "from data import Data\n",
    "from embedding_google import Get_Embedding\n",
    "from train_network import Train_Network\n",
    "from run_iterations import Run_Iterations\n",
    "from manhattan_lstm import Manhattan_LSTM\n",
    "import torch.nn.utils.rnn as rnn"
   ]
  },
  {
   "cell_type": "code",
   "execution_count": 9,
   "metadata": {},
   "outputs": [],
   "source": [
    "use_cuda = torch.cuda.is_available()"
   ]
  },
  {
   "cell_type": "code",
   "execution_count": 10,
   "metadata": {},
   "outputs": [
    {
     "name": "stdout",
     "output_type": "stream",
     "text": [
      "Number of Training Positive Samples   : 119341.0\n",
      "Number of Training Negative Samples   : 204039.0\n",
      "Number of Validation Positive Samples   : 29961.0\n",
      "Number of Validation Negative Samples   : 50877.0\n",
      "\n",
      "\n",
      "Number of training samples        : 323380\n",
      "Number of validation samples      : 80838\n",
      "Maximum sequence length           : 20\n",
      "\n",
      "\n",
      "Building Embedding Matrix\n"
     ]
    }
   ],
   "source": [
    "data_name = \"quora\"\n",
    "data_file = \"../Datasets/quora.tsv\"\n",
    "embd_file = \"../Embeddings/GoogleNews-vectors-negative300.bin.gz\"\n",
    "training_ratio = 0.8\n",
    "max_len = 20\n",
    "tracking_pair = False\n",
    "hidden_size = 50\n",
    "batch_size = 32\n",
    "num_iters = 7\n",
    "learning_rate = 0.001\n",
    "\n",
    "data = Data(data_name, data_file, training_ratio, max_len)\n",
    "\n",
    "print('\\n')\n",
    "print('Number of training samples        :', len(data.x_train))\n",
    "print('Number of validation samples      :', len(data.x_val))\n",
    "print('Maximum sequence length           :', max_len)\n",
    "print('\\n')\n",
    "\n",
    "print('Building Embedding Matrix')\n",
    "embedding = Get_Embedding(embd_file, data.word2index)\n",
    "embedding_size = embedding.embedding_matrix.shape[1]"
   ]
  },
  {
   "cell_type": "code",
   "execution_count": 11,
   "metadata": {},
   "outputs": [
    {
     "name": "stdout",
     "output_type": "stream",
     "text": [
      "Building model.\n"
     ]
    }
   ],
   "source": [
    "print('Building model.')\n",
    "model = Manhattan_LSTM(data_name, hidden_size, embedding.embedding_matrix, use_embedding=True, train_embedding=True)\n",
    "if use_cuda: model = model.cuda()\n",
    "\n",
    "model.init_weights()"
   ]
  },
  {
   "cell_type": "code",
   "execution_count": null,
   "metadata": {},
   "outputs": [
    {
     "name": "stdout",
     "output_type": "stream",
     "text": [
      "Training Network.\n",
      "Beginning Model Training.\n",
      "\n",
      "4m 41s (- 28m 7s) (1 14%) 1916.5550\n",
      "Validation Accuracy: 77.868082 Validation Precision: 74.540501 Validation Recall: 61.182871 Validation Loss: 385.882116\n",
      "\n",
      "\n",
      "9m 42s (- 24m 17s) (2 28%) 1323.9802\n",
      "Validation Accuracy: 78.925753 Validation Precision: 73.870646 Validation Recall: 66.750108 Validation Loss: 372.774588\n",
      "\n",
      "\n",
      "14m 44s (- 19m 39s) (3 42%) 1071.1913\n",
      "Validation Accuracy: 78.611544 Validation Precision: 72.462329 Validation Recall: 68.215347 Validation Loss: 376.400156\n",
      "\n",
      "\n",
      "19m 47s (- 14m 50s) (4 57%) 902.8452\n",
      "Validation Accuracy: 78.532373 Validation Precision: 72.166544 Validation Recall: 68.495711 Validation Loss: 382.227610\n",
      "\n",
      "\n",
      "24m 49s (- 9m 55s) (5 71%) 789.5607\n",
      "Validation Accuracy: 78.440832 Validation Precision: 71.724736 Validation Recall: 69.053102 Validation Loss: 387.421276\n",
      "\n",
      "\n",
      "29m 50s (- 4m 58s) (6 85%) 689.6404\n",
      "Validation Accuracy: 78.575670 Validation Precision: 71.923557 Validation Recall: 69.213311 Validation Loss: 387.387762\n",
      "\n",
      "\n"
     ]
    }
   ],
   "source": [
    "print(\"Training Network.\")\n",
    "train_network = Train_Network(model, data.index2word)\n",
    "\n",
    "run_iterations = Run_Iterations(data_name, train_network, data.x_train, data.y_train, data.index2word,\n",
    "                                batch_size, num_iters, learning_rate,\n",
    "                                tracking_pair=tracking_pair, x_val=data.x_val, y_val=data.y_val)\n",
    "run_iterations.train_iters()\n",
    "run_iterations.evaluate_randomly()\n",
    "\n",
    "torch.save(model.state_dict(), './manhattan_lstm.pt')"
   ]
  }
 ],
 "metadata": {
  "kernelspec": {
   "display_name": "Python 3",
   "language": "python",
   "name": "python3"
  },
  "language_info": {
   "codemirror_mode": {
    "name": "ipython",
    "version": 3
   },
   "file_extension": ".py",
   "mimetype": "text/x-python",
   "name": "python",
   "nbconvert_exporter": "python",
   "pygments_lexer": "ipython3",
   "version": "3.7.6"
  }
 },
 "nbformat": 4,
 "nbformat_minor": 4
}
